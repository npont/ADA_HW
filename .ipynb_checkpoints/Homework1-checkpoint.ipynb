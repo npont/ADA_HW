{
 "cells": [
  {
   "cell_type": "markdown",
   "metadata": {},
   "source": [
    "# Homework 1 (HW1)\n",
    "\n",
    "---\n",
    "By the end of this homework we expect you to be able to:\n",
    "1. Load data from different formats using [pandas](https://pandas.pydata.org/);\n",
    "2. Navigate the documentation of Python packages by yourself;\n",
    "3. Filter and tidy up noisy data sets;\n",
    "4. Aggregate your data in different (and hopefully helpful) ways; \n",
    "5. Create meaningful visualizations to analyze the data;\n",
    "6. Critically think and write about data;\n",
    "---\n",
    "\n",
    "## Important Dates\n",
    "\n",
    "- Homework release: Fri 8 Oct 2021\n",
    "- **Homework due**: Fri 22 Oct 2021, 23:59\n",
    "- Grade release: Fri 29 Oct 2021\n",
    "\n",
    "---\n",
    "\n",
    "##  Some rules\n",
    "\n",
    "1. You are allowed to use any built-in Python library that comes with Anaconda. If you want to use an external library, \n",
    "you may do so, but must justify your choice.\n",
    "2. Make sure you use the `data` folder provided in the repository in read-only mode. (Or alternatively, be sure you \n",
    "don’t change any of the files.)\n",
    "3. Be sure to provide a textual description of your thought process, the assumptions you made, the solution you \n",
    "implemented, and explanations for your answers. A notebook that only has code cells will not suffice.\n",
    "4. For questions containing the **/Discuss:/** prefix, answer not with code, but with a textual explanation\n",
    " (**in markdown**).\n",
    "5. Back up any hypotheses and claims with data, since this is an important aspect of the course.\n",
    "6. Please write all your comments in English, and use meaningful variable names in your code. Your repo should have a \n",
    "single notebook (plus the required data files) in the *master/main* branch. If there are multiple notebooks present, \n",
    "we will **not grade** anything.\n",
    "7. We will **not run your notebook for you**! Rather, we will grade it as is, which means that only the results \n",
    "contained in your evaluated code cells will be considered, and we will not see the results in unevaluated code cells. \n",
    "Thus, be sure to hand in a **fully-run and evaluated notebook**. In order to check whether everything looks as intended,\n",
    " you can check the rendered notebook on the GitHub website once you have pushed your solution there.\n",
    "8. In continuation to the previous point, interactive plots, such as those generated using `plotly`, should be \n",
    "**strictly avoided**!\n",
    "9. Make sure to print results or dataframes that confirm you have properly addressed the task.\n",
    "\n",
    "---\n",
    "\n",
    "## Context\n",
    "\n",
    "In this project, we are going to analyze data from an experiment about *honesty*. \n",
    "Oftentimes, we are asked to confirm our honest intentions by signing **at the end** of a document. \n",
    "For example, in tax returns or insurance policy forms, we are often asked to sign our names under a text that reads \n",
    "something like \"I hereby certify that the above statements are true and correct to the best of my knowledge.\"\n",
    "\n",
    "However, when individuals sign **after** lying in the form, they may not feel the need to correct the falsehoods they \n",
    "have reported. In that context, it could be that signing at **the beginning** rather than at the end of the document \n",
    "would decrease dishonesty, as those who are filling the form would be aware of the ethical requirements *before* they \n",
    "provide the information in the form.\n",
    "\n",
    "This intuition has led researchers to partner up with a motorcycle insurance company to run a randomized experiment. \n",
    "In this insurance company (as well as in many others), customers had to report the exact *odometer kilometrage*¹ in \n",
    "order for the company to adjust the insurance premiums. Note that motorcycles with lower kilometrage are less likely to \n",
    "have issues, and thus will result in a lower *insurance premium*². Therefore, customers have an incentive to lie, \n",
    "reporting a kilometrage lower than the real value, in order to save money.\n",
    "\n",
    "In the experiment, two different forms were created: one where the signing was done at the end, and another where the \n",
    "signing was done at the beginning. The insurance company then randomized these forms (i.e., each customer received\n",
    " exactly one form, each with probability 50%) and sent back the data that customers had provided. Some noteworthy \n",
    " details on the experiment are that:\n",
    "\n",
    "- All customers involved in the experiment already had a contract with the company and were simply renewing it. \n",
    "In the data that the company provided, they also report the odometer kilometrage for their previous contract.\n",
    "Each policy, therefore, contains two contracts: the \"updated\" contract —where the experiment was conducted— and \n",
    "the \"baseline\" contract, which was the previous contract customers had with the company.\n",
    "- A single insurance policy can insure up to 4 distinct motorcycles.\n",
    "\n",
    "In this assignment, you will take the role of the researcher and work analyzing this data!\n",
    "\n",
    "*Glossary:*\n",
    "1. **odometer kilometrage:** the total distance the motorcycle has traveled.\n",
    "2. **insurance premiums:** the amount of money one pays for an insurance policy.\n",
    "\n",
    "---\n",
    "\n",
    "## The data\n",
    "\n",
    "The company provided you with a compressed `.tsv` file containing one row per policy. \n",
    "The `.tsv` has the following fields:\n",
    "\n",
    "- `condition`: either `Sign Top` or `Sign Bottom`, depending on which form was sent.\n",
    "- `id`: unique identifier for each insurance policy.\n",
    "- `motorcycle_count`: number of motorcycles covered by the insurance policy.\n",
    "- `baseline_motorcycle[1-4]`: odometer kilometrage *reported by the customer* in the *previous (baseline)* contract. \n",
    "- `update_motorcycle[1-4]`: odometer kilometrage *reported by the customer* in the *current (updated)* contract.\n",
    "\n",
    "Some comments:\n",
    "\n",
    "- Recall that a single policy can ensure up to 4 motorcycles, and thus, the suffixes [1-4] indicate that there are 4 \n",
    "versions of these columns in the data (e.g., `baseline_motorcycle1`, `baseline_motorcycle2`, `baseline_motorcycle3`, \n",
    "`baseline_motorcycle4`). \n",
    "- When a policy has fewer than 4 motorcycles, only the columns with the smaller numerals are filled (e.g., if a policy \n",
    "insures one motorcycle,  only `baseline_motorcycle1` and `update_motorcycle1` will be filled).\n",
    "- Note that we only have access to the odometer kilometrage reported by the customers, \n",
    "which may be different from the real kilometrage of the motorcycles."
   ]
  },
  {
   "cell_type": "code",
   "execution_count": 17,
   "metadata": {},
   "outputs": [],
   "source": [
    "# Imports you may need\n",
    "import seaborn as sns\n",
    "from IPython.display import display, HTML\n",
    "import matplotlib.pyplot as plt\n",
    "import scipy.stats as stats\n",
    "import pandas as pd\n",
    "import numpy as np\n",
    "import math\n",
    "import random"
   ]
  },
  {
   "cell_type": "markdown",
   "metadata": {},
   "source": [
    "### **Task 1** — 4pts\n",
    "\n",
    "Your first task is to load the dataset into memory using pandas. \n",
    "**You should load the data directly from the compressed files.**\n",
    "\n",
    "Here, the files at hand are rather small, and you could easily uncompress the files to disk and work with them as plain \n",
    "text. Why, then, are we asking you to load the files compressed? The reason is that, in your life as a data scientist, \n",
    "this will often not be the case. Then, working with compressed files is key so that you don't receive email from your \n",
    "(often more responsible) colleagues demanding to know how you have managed to fill the entire cluster with your \n",
    "datasets. Another big advantage of compressing files is to simply read files faster. You will often find that reading\n",
    "compressed data on the fly (uncompressing it as you go), is much faster than reading uncompressed data, since reading\n",
    "and writing to disk may be your [bottleneck](https://skipperkongen.dk/2012/02/28/uncompressed-versus-compressed-read/). \n",
    "\n",
    "---\n",
    "\n",
    "**Hint:** `pandas` can open compressed files.\n",
    "\n",
    "**Hint:** In the real world (and in ADA-homework), your file often comes with some weird lines! \n",
    "This time you can safely ignore them (but in the real world you must try to understand why they are there!). \n",
    "Check the `error_bad_lines` or the `on_bad_lines` (depending on your pandas version) parameter on `read_csv`."
   ]
  },
  {
   "cell_type": "code",
   "execution_count": 18,
   "metadata": {},
   "outputs": [
    {
     "name": "stderr",
     "output_type": "stream",
     "text": [
      "b'Skipping line 2142: expected 11 fields, saw 27\\n'\n"
     ]
    },
    {
     "data": {
      "text/html": [
       "<div>\n",
       "<style scoped>\n",
       "    .dataframe tbody tr th:only-of-type {\n",
       "        vertical-align: middle;\n",
       "    }\n",
       "\n",
       "    .dataframe tbody tr th {\n",
       "        vertical-align: top;\n",
       "    }\n",
       "\n",
       "    .dataframe thead th {\n",
       "        text-align: right;\n",
       "    }\n",
       "</style>\n",
       "<table border=\"1\" class=\"dataframe\">\n",
       "  <thead>\n",
       "    <tr style=\"text-align: right;\">\n",
       "      <th></th>\n",
       "      <th>condition</th>\n",
       "      <th>id</th>\n",
       "      <th>baseline_motorcycle1</th>\n",
       "      <th>update_motorcycle1</th>\n",
       "      <th>baseline_motorcycle2</th>\n",
       "      <th>update_motorcycle2</th>\n",
       "      <th>baseline_motorcycle3</th>\n",
       "      <th>update_motorcycle3</th>\n",
       "      <th>baseline_motorcycle4</th>\n",
       "      <th>update_motorcycle4</th>\n",
       "      <th>motorcycle_count</th>\n",
       "    </tr>\n",
       "  </thead>\n",
       "  <tbody>\n",
       "    <tr>\n",
       "      <th>0</th>\n",
       "      <td>Sign Top</td>\n",
       "      <td>1</td>\n",
       "      <td>896</td>\n",
       "      <td>39198</td>\n",
       "      <td>NaN</td>\n",
       "      <td>NaN</td>\n",
       "      <td>NaN</td>\n",
       "      <td>NaN</td>\n",
       "      <td>NaN</td>\n",
       "      <td>NaN</td>\n",
       "      <td>1</td>\n",
       "    </tr>\n",
       "    <tr>\n",
       "      <th>1</th>\n",
       "      <td>Sign Bottom</td>\n",
       "      <td>2</td>\n",
       "      <td>21396</td>\n",
       "      <td>63511</td>\n",
       "      <td>32659.0</td>\n",
       "      <td>47605.0</td>\n",
       "      <td>NaN</td>\n",
       "      <td>NaN</td>\n",
       "      <td>NaN</td>\n",
       "      <td>NaN</td>\n",
       "      <td>2</td>\n",
       "    </tr>\n",
       "    <tr>\n",
       "      <th>2</th>\n",
       "      <td>Sign Bottom</td>\n",
       "      <td>3</td>\n",
       "      <td>21340</td>\n",
       "      <td>37460</td>\n",
       "      <td>44998.0</td>\n",
       "      <td>59002.0</td>\n",
       "      <td>NaN</td>\n",
       "      <td>NaN</td>\n",
       "      <td>NaN</td>\n",
       "      <td>NaN</td>\n",
       "      <td>2</td>\n",
       "    </tr>\n",
       "    <tr>\n",
       "      <th>3</th>\n",
       "      <td>Sign Bottom</td>\n",
       "      <td>4</td>\n",
       "      <td>23912</td>\n",
       "      <td>59136</td>\n",
       "      <td>NaN</td>\n",
       "      <td>NaN</td>\n",
       "      <td>NaN</td>\n",
       "      <td>NaN</td>\n",
       "      <td>NaN</td>\n",
       "      <td>NaN</td>\n",
       "      <td>1</td>\n",
       "    </tr>\n",
       "    <tr>\n",
       "      <th>4</th>\n",
       "      <td>Sign Bottom</td>\n",
       "      <td>5</td>\n",
       "      <td>16862</td>\n",
       "      <td>59292</td>\n",
       "      <td>NaN</td>\n",
       "      <td>NaN</td>\n",
       "      <td>NaN</td>\n",
       "      <td>NaN</td>\n",
       "      <td>NaN</td>\n",
       "      <td>NaN</td>\n",
       "      <td>1</td>\n",
       "    </tr>\n",
       "  </tbody>\n",
       "</table>\n",
       "</div>"
      ],
      "text/plain": [
       "     condition  id  baseline_motorcycle1  update_motorcycle1  \\\n",
       "0     Sign Top   1                   896               39198   \n",
       "1  Sign Bottom   2                 21396               63511   \n",
       "2  Sign Bottom   3                 21340               37460   \n",
       "3  Sign Bottom   4                 23912               59136   \n",
       "4  Sign Bottom   5                 16862               59292   \n",
       "\n",
       "   baseline_motorcycle2  update_motorcycle2  baseline_motorcycle3  \\\n",
       "0                   NaN                 NaN                   NaN   \n",
       "1               32659.0             47605.0                   NaN   \n",
       "2               44998.0             59002.0                   NaN   \n",
       "3                   NaN                 NaN                   NaN   \n",
       "4                   NaN                 NaN                   NaN   \n",
       "\n",
       "   update_motorcycle3  baseline_motorcycle4  update_motorcycle4  \\\n",
       "0                 NaN                   NaN                 NaN   \n",
       "1                 NaN                   NaN                 NaN   \n",
       "2                 NaN                   NaN                 NaN   \n",
       "3                 NaN                   NaN                 NaN   \n",
       "4                 NaN                   NaN                 NaN   \n",
       "\n",
       "   motorcycle_count  \n",
       "0                 1  \n",
       "1                 2  \n",
       "2                 2  \n",
       "3                 1  \n",
       "4                 1  "
      ]
     },
     "execution_count": 18,
     "metadata": {},
     "output_type": "execute_result"
    }
   ],
   "source": [
    "data_folder = 'data/'\n",
    "data= pd.read_csv(data_folder+'data.tsv.gz', compression ='gzip', error_bad_lines=False, sep = '\\t')\n",
    "data.head()"
   ]
  },
  {
   "cell_type": "markdown",
   "metadata": {},
   "source": [
    "### Task 2 — 12pts\n",
    "\n",
    "As a good data scientist, the first thing you do is to clean up the data and perform some small sanity checks.\n",
    "\n",
    "1. The motorcycle insurance company mentioned that each policy has a unique identifier, but that there may be duplicate \n",
    "rows (i.e., multiple rows with the same policy identifier). Check if there are duplicate policies and, if so, filter \n",
    "these rows from the data (always keeping the first).\n",
    "\n",
    "2. According to the company, all policies should have kept the number of motorcycles from the previous contract (i.e., \n",
    "the number of motorcycles recorded in baseline contracts should equal the number of motorcycles in updated contracts). \n",
    "Also, the number of odometer readings for each contract should be the same as the number stated in the \n",
    "`motorcycle_count` variable. Check the data to see if these two things hold. If not, filter the anomalous rows.\n",
    "\n",
    "3. Calculate the mean and the median value of each column related to kilometrages. Are the values obtained plausible? \n",
    "Visualize the distribution of the data and remove any extreme outliers.\n",
    "\n",
    "4. **Discuss:** In cases where you cannot think of appropriate ways to remove outliers, would you prefer summarizing \n",
    "numerical data with outliers with the mean or the median? Why?\n",
    "\n",
    "---\n",
    "\n",
    "**Hint:** Here we are considering as outliers numbers that are not plausible in the context of motorcycle kilometrages."
   ]
  },
  {
   "cell_type": "markdown",
   "metadata": {},
   "source": [
    "### 2.1"
   ]
  },
  {
   "cell_type": "code",
   "execution_count": 19,
   "metadata": {},
   "outputs": [
    {
     "name": "stdout",
     "output_type": "stream",
     "text": [
      "Number of rows in data: 13488\n"
     ]
    }
   ],
   "source": [
    "#1. Let's drop rows with duplicated policy identifiers:\n",
    "data=data.drop_duplicates(subset=['id'])\n",
    "data.head()\n",
    "print(\"Number of rows in data: {}\" .format(data.shape[0]))"
   ]
  },
  {
   "cell_type": "markdown",
   "metadata": {},
   "source": [
    "Note that data.shape[0] returns a smaller value than in task1, meaning that the function indeed found some duplicates \n",
    "and removed the corresponding rows"
   ]
  },
  {
   "cell_type": "markdown",
   "metadata": {},
   "source": [
    "### 2.2"
   ]
  },
  {
   "cell_type": "code",
   "execution_count": 20,
   "metadata": {},
   "outputs": [
    {
     "data": {
      "text/plain": [
       "condition               13488\n",
       "id                      13488\n",
       "baseline_motorcycle1    13488\n",
       "update_motorcycle1      13488\n",
       "baseline_motorcycle2     5648\n",
       "update_motorcycle2       5648\n",
       "baseline_motorcycle3     1277\n",
       "update_motorcycle3       1277\n",
       "baseline_motorcycle4      326\n",
       "update_motorcycle4        326\n",
       "motorcycle_count        13488\n",
       "dtype: int64"
      ]
     },
     "execution_count": 20,
     "metadata": {},
     "output_type": "execute_result"
    }
   ],
   "source": [
    "#2. \n",
    "data.count()"
   ]
  },
  {
   "cell_type": "markdown",
   "metadata": {},
   "source": [
    "We can see that for each policy the number of values (others that NaN) in baseline contracts is equal to the number of motorcycles in updated contracts for each motorcycle. This let us think that the data is correct and that for each motorcycle recorded in a baseline contract, there is a corresponding updated contract. \n",
    "\n",
    "However, with this technique, an error induced by a value existing in the baseline contract and a nan value in the updated contract could be compensated by another error with a nan value in the baseline contract and an existing value in the updated contract. But with four different cases, this is very unlikely to be observed. \n",
    "To be sure we will just remove the rows with this error and we should not observe any changes."
   ]
  },
  {
   "cell_type": "code",
   "execution_count": 21,
   "metadata": {
    "scrolled": true
   },
   "outputs": [
    {
     "name": "stdout",
     "output_type": "stream",
     "text": [
      "Rows: 13488\n"
     ]
    }
   ],
   "source": [
    "indexNames = data[ (((data['baseline_motorcycle2'].isnull())\n",
    "                        & (data['update_motorcycle2'].notnull()))\n",
    "                     | ((data['baseline_motorcycle2'].notnull() \n",
    "                        & data['update_motorcycle2'].isnull())))\n",
    "                 & (((data['baseline_motorcycle3'].isnull())\n",
    "                        & (data['update_motorcycle3'].notnull()))\n",
    "                     | ((data['baseline_motorcycle3'].notnull() \n",
    "                        & data['update_motorcycle3'].isnull())))\n",
    "                 & (((data['baseline_motorcycle1'].isnull())\n",
    "                        & (data['update_motorcycle1'].notnull()))\n",
    "                     | ((data['baseline_motorcycle1'].notnull() \n",
    "                        & data['update_motorcycle1'].isnull())))\n",
    "                 & (((data['baseline_motorcycle4'].isnull())\n",
    "                        & (data['update_motorcycle4'].notnull()))\n",
    "                     | ((data['baseline_motorcycle4'].notnull() \n",
    "                        & data['update_motorcycle4'].isnull())))].index\n",
    "\n",
    "data.drop(indexNames , inplace=True)\n",
    "print(\"Rows: {}\".format(data.shape[0]))"
   ]
  },
  {
   "cell_type": "markdown",
   "metadata": {},
   "source": [
    "As we observe, the 'data' DataFrame did not change."
   ]
  },
  {
   "cell_type": "markdown",
   "metadata": {},
   "source": [
    "To check that the number of contracts in the policy matches the motorcycle_count variable, we can count the number of non-null values in each row and divide by 2 to get the number of contracts recorded in a row. Then, we can compare that series to the column of motorcycle counts. As seen below, the two series are equal, so the motorcycle_count column is accurate."
   ]
  },
  {
   "cell_type": "code",
   "execution_count": 22,
   "metadata": {},
   "outputs": [
    {
     "data": {
      "text/plain": [
       "False"
      ]
     },
     "execution_count": 22,
     "metadata": {},
     "output_type": "execute_result"
    }
   ],
   "source": [
    "copy = data.drop(['condition', 'id', 'motorcycle_count'], axis=1)\n",
    "contract_counts = copy.count(axis = 1) / 2\n",
    "(contract_counts.astype(int)).equals(data['motorcycle_count'])"
   ]
  },
  {
   "cell_type": "markdown",
   "metadata": {},
   "source": [
    "### 2.3"
   ]
  },
  {
   "cell_type": "code",
   "execution_count": 23,
   "metadata": {
    "scrolled": true
   },
   "outputs": [
    {
     "name": "stdout",
     "output_type": "stream",
     "text": [
      "means are:\n",
      " baseline_motorcycle1    7.413998e+14\n",
      "update_motorcycle1      7.413998e+14\n",
      "baseline_motorcycle2    6.732597e+04\n",
      "update_motorcycle2      9.227763e+04\n",
      "baseline_motorcycle3    6.765732e+04\n",
      "update_motorcycle3      9.284941e+04\n",
      "baseline_motorcycle4    6.782798e+04\n",
      "update_motorcycle4      9.337428e+04\n",
      "dtype: float64 \n",
      " medians are: \n",
      " baseline_motorcycle1    56341.5\n",
      "update_motorcycle1      82397.5\n",
      "baseline_motorcycle2    56157.5\n",
      "update_motorcycle2      82061.0\n",
      "baseline_motorcycle3    58821.0\n",
      "update_motorcycle3      85645.0\n",
      "baseline_motorcycle4    68181.0\n",
      "update_motorcycle4      93387.5\n",
      "dtype: float64\n"
     ]
    }
   ],
   "source": [
    "copy=data.drop(['condition', 'id', 'motorcycle_count'], axis=1)\n",
    "print(\"means are:\\n\",copy.mean(), \"\\n medians are: \\n\", copy.median())"
   ]
  },
  {
   "cell_type": "markdown",
   "metadata": {},
   "source": [
    "Clearly, some of the mean values are not plausible, so there must be outliers in the data."
   ]
  },
  {
   "cell_type": "markdown",
   "metadata": {},
   "source": [
    "**Remove outliers**"
   ]
  },
  {
   "cell_type": "code",
   "execution_count": 24,
   "metadata": {},
   "outputs": [
    {
     "data": {
      "text/plain": [
       "(13054, 11)"
      ]
     },
     "execution_count": 24,
     "metadata": {},
     "output_type": "execute_result"
    }
   ],
   "source": [
    "index_to_change = ['update_motorcycle1','update_motorcycle2', 'update_motorcycle3', 'update_motorcycle4', \n",
    "             'baseline_motorcycle1', 'baseline_motorcycle2', 'baseline_motorcycle3', 'baseline_motorcycle4']\n",
    "\n",
    "Q1 = data.quantile(0.25)\n",
    "Q3 = data.quantile(0.75)\n",
    "IQR = Q3 - Q1\n",
    "\n",
    "data = data[~((data[index_to_change] < (Q1 - 1.5 * IQR)) |(data[index_to_change] > (Q3 + 1.5 * IQR))).any(axis=1)]\n",
    "data.shape"
   ]
  },
  {
   "cell_type": "code",
   "execution_count": 25,
   "metadata": {},
   "outputs": [
    {
     "data": {
      "text/plain": [
       "(13054, 11)"
      ]
     },
     "execution_count": 25,
     "metadata": {},
     "output_type": "execute_result"
    }
   ],
   "source": [
    "index_to_change=['update_motorcycle1','update_motorcycle2', 'update_motorcycle3', 'update_motorcycle4', \n",
    "             'baseline_motorcycle1', 'baseline_motorcycle2', 'baseline_motorcycle3', 'baseline_motorcycle4']\n",
    "\n",
    "data[index_to_change] = data[index_to_change][~((data[index_to_change] < (Q1 - 1.5 * IQR)) |(data[index_to_change] > (Q3 + 1.5 * IQR))).any(axis=1)]\n",
    "data.shape"
   ]
  },
  {
   "cell_type": "code",
   "execution_count": 26,
   "metadata": {},
   "outputs": [
    {
     "name": "stdout",
     "output_type": "stream",
     "text": [
      "\u001b[1mThe means are\n",
      "\u001b[0m baseline_motorcycle1    62723.617359\n",
      "update_motorcycle1      87591.231270\n",
      "baseline_motorcycle2    62343.796951\n",
      "update_motorcycle2      87234.083116\n",
      "baseline_motorcycle3    64265.034110\n",
      "update_motorcycle3      89330.563228\n",
      "baseline_motorcycle4    65508.520505\n",
      "update_motorcycle4      91153.488959\n",
      "dtype: float64 \u001b[1m\n",
      "The medians are\n",
      "\u001b[0m baseline_motorcycle1    54700.0\n",
      "update_motorcycle1      80428.0\n",
      "baseline_motorcycle2    54438.5\n",
      "update_motorcycle2      79838.5\n",
      "baseline_motorcycle3    58000.0\n",
      "update_motorcycle3      84348.0\n",
      "baseline_motorcycle4    64784.0\n",
      "update_motorcycle4      92453.0\n",
      "dtype: float64\n"
     ]
    }
   ],
   "source": [
    "#3.\n",
    "copy=data.drop(['condition', 'id', 'motorcycle_count'], axis=1)\n",
    "print('\\033[1m' + \"The means are\\n\" + '\\033[0m', copy.mean(), '\\033[1m' + \"\\nThe medians are\\n\" + '\\033[0m', copy.median())"
   ]
  },
  {
   "cell_type": "markdown",
   "metadata": {},
   "source": [
    "**Visualize the Distributions**"
   ]
  },
  {
   "cell_type": "code",
   "execution_count": 27,
   "metadata": {},
   "outputs": [
    {
     "data": {
      "image/png": "[encoded data removed]",
      "text/plain": [
       "<Figure size 432x288 with 1 Axes>"
      ]
     },
     "metadata": {
      "needs_background": "light"
     },
     "output_type": "display_data"
    },
    {
     "data": {
      "image/png": "[encoded data removed]",
      "text/plain": [
       "<Figure size 432x288 with 1 Axes>"
      ]
     },
     "metadata": {
      "needs_background": "light"
     },
     "output_type": "display_data"
    },
    {
     "data": {
      "image/png": "[encoded data removed]",
      "text/plain": [
       "<Figure size 432x288 with 1 Axes>"
      ]
     },
     "metadata": {
      "needs_background": "light"
     },
     "output_type": "display_data"
    },
    {
     "data": {
      "image/png": "[encoded data removed]",
      "text/plain": [
       "<Figure size 432x288 with 1 Axes>"
      ]
     },
     "metadata": {
      "needs_background": "light"
     },
     "output_type": "display_data"
    },
    {
     "data": {
      "text/plain": [
       "<Figure size 432x288 with 0 Axes>"
      ]
     },
     "metadata": {},
     "output_type": "display_data"
    }
   ],
   "source": [
    "for i in range(1,5):\n",
    "    plot=sns.scatterplot(data=data, x=\"baseline_motorcycle{}\".format(i) , y=\"update_motorcycle{}\".format(i)).set(title=\"Scatter plot of baseline motorcycle vs update motorcycle contract{}\".format(i))\n",
    "    plt.xlabel(\"Baseline Kilometrage for Motorcycle {}\".format(i))\n",
    "    plt.ylabel(\"Update Kilometrage for Motorcycle {}\".format(i))\n",
    "    plt.figure()"
   ]
  },
  {
   "cell_type": "markdown",
   "metadata": {},
   "source": [
    "### 2.4\n",
    "\n",
    "In the case where we cannot remove outliers, it is much better to work with the median as it won't be as affected by outliers as the mean. Indeed, the median is the \"middle\" value in the list of numbers and won't be shifted as much as the mean by extreme values."
   ]
  },
  {
   "cell_type": "markdown",
   "metadata": {},
   "source": [
    "### Task 3 — 12pts\n",
    "\n",
    "One of the challenges with the current data is that it is not clear how to handle policies with multiple motorcycles.\n",
    "\n",
    "1. Create three additional columns in the dataframe, `baseline_average`, `update_average`, and `diff_average`. These \n",
    "should contain, respectively, the average value for `baseline_motorcycle[1-4]` for all motorcycles insured; the average\n",
    " value for `update_motorcycle[1-4]`; and the difference between the average updated value and the average baseline \n",
    " value.\n",
    "2. **Discuss:** Propose another way of aggregating distinct motorcycles from a single policy. Point out a way in which \n",
    "this aggregation may be either better or worse than taking the average for the purpose of comparing the two scenarios in\n",
    " the study (sign at the top vs. sign at the bottom).\n",
    "3. To get a sense of the impact that policies with multiple motorcycles may have in the study, let's perform some \n",
    "additional analyses. Plot the distribution of motorcycles per policy in the data. Your plot should allow for the \n",
    "meaningful comparison of the values shown.\n",
    "4. In 3.1, you calculated the average kilometrage for each policy for the updated contract. Calculate the mean and the \n",
    "standard deviation of these values (which should be in the column `update_average`).\n",
    "5. Another meaningful metric is the average kilometrage **per motorcycle**, not distinguishing motorcycles in different \n",
    "policies (i.e., pooled across policies). **Considering only policies with 4 motorcycles insured,** calculate the mean \n",
    "and the standard deviation of the kilometrage per motorcycle in the updated contract.\n",
    "6. **Discuss:** To analyze whether signing at the top decreases dishonesty, we could consider the data in different \n",
    "ways. We could first calculate the average value per motorcycle within each policy and have one data point per policy \n",
    "**or** we could analyze the data at the motorcycle level and have one data point per motorcycle in the dataset. \n",
    "According to questions 3.4 and 3.5, how may this decision influence the results of the study?\n",
    "---"
   ]
  },
  {
   "cell_type": "markdown",
   "metadata": {},
   "source": [
    "#### 3.1\n",
    "\n",
    "Create two new columns by taking the mean of baseline and update values across the rows. Then, create a third new column by subtracting them element-wise."
   ]
  },
  {
   "cell_type": "code",
   "execution_count": 28,
   "metadata": {},
   "outputs": [
    {
     "data": {
      "text/html": [
       "<div>\n",
       "<style scoped>\n",
       "    .dataframe tbody tr th:only-of-type {\n",
       "        vertical-align: middle;\n",
       "    }\n",
       "\n",
       "    .dataframe tbody tr th {\n",
       "        vertical-align: top;\n",
       "    }\n",
       "\n",
       "    .dataframe thead th {\n",
       "        text-align: right;\n",
       "    }\n",
       "</style>\n",
       "<table border=\"1\" class=\"dataframe\">\n",
       "  <thead>\n",
       "    <tr style=\"text-align: right;\">\n",
       "      <th></th>\n",
       "      <th>condition</th>\n",
       "      <th>id</th>\n",
       "      <th>baseline_motorcycle1</th>\n",
       "      <th>update_motorcycle1</th>\n",
       "      <th>baseline_motorcycle2</th>\n",
       "      <th>update_motorcycle2</th>\n",
       "      <th>baseline_motorcycle3</th>\n",
       "      <th>update_motorcycle3</th>\n",
       "      <th>baseline_motorcycle4</th>\n",
       "      <th>update_motorcycle4</th>\n",
       "      <th>motorcycle_count</th>\n",
       "      <th>baseline_average</th>\n",
       "      <th>update_average</th>\n",
       "      <th>diff_average</th>\n",
       "    </tr>\n",
       "  </thead>\n",
       "  <tbody>\n",
       "    <tr>\n",
       "      <th>0</th>\n",
       "      <td>Sign Top</td>\n",
       "      <td>1</td>\n",
       "      <td>896</td>\n",
       "      <td>39198</td>\n",
       "      <td>NaN</td>\n",
       "      <td>NaN</td>\n",
       "      <td>NaN</td>\n",
       "      <td>NaN</td>\n",
       "      <td>NaN</td>\n",
       "      <td>NaN</td>\n",
       "      <td>1</td>\n",
       "      <td>896.0</td>\n",
       "      <td>39198.0</td>\n",
       "      <td>38302.0</td>\n",
       "    </tr>\n",
       "    <tr>\n",
       "      <th>1</th>\n",
       "      <td>Sign Bottom</td>\n",
       "      <td>2</td>\n",
       "      <td>21396</td>\n",
       "      <td>63511</td>\n",
       "      <td>32659.0</td>\n",
       "      <td>47605.0</td>\n",
       "      <td>NaN</td>\n",
       "      <td>NaN</td>\n",
       "      <td>NaN</td>\n",
       "      <td>NaN</td>\n",
       "      <td>2</td>\n",
       "      <td>27027.5</td>\n",
       "      <td>55558.0</td>\n",
       "      <td>28530.5</td>\n",
       "    </tr>\n",
       "    <tr>\n",
       "      <th>2</th>\n",
       "      <td>Sign Bottom</td>\n",
       "      <td>3</td>\n",
       "      <td>21340</td>\n",
       "      <td>37460</td>\n",
       "      <td>44998.0</td>\n",
       "      <td>59002.0</td>\n",
       "      <td>NaN</td>\n",
       "      <td>NaN</td>\n",
       "      <td>NaN</td>\n",
       "      <td>NaN</td>\n",
       "      <td>2</td>\n",
       "      <td>33169.0</td>\n",
       "      <td>48231.0</td>\n",
       "      <td>15062.0</td>\n",
       "    </tr>\n",
       "    <tr>\n",
       "      <th>3</th>\n",
       "      <td>Sign Bottom</td>\n",
       "      <td>4</td>\n",
       "      <td>23912</td>\n",
       "      <td>59136</td>\n",
       "      <td>NaN</td>\n",
       "      <td>NaN</td>\n",
       "      <td>NaN</td>\n",
       "      <td>NaN</td>\n",
       "      <td>NaN</td>\n",
       "      <td>NaN</td>\n",
       "      <td>1</td>\n",
       "      <td>23912.0</td>\n",
       "      <td>59136.0</td>\n",
       "      <td>35224.0</td>\n",
       "    </tr>\n",
       "    <tr>\n",
       "      <th>4</th>\n",
       "      <td>Sign Bottom</td>\n",
       "      <td>5</td>\n",
       "      <td>16862</td>\n",
       "      <td>59292</td>\n",
       "      <td>NaN</td>\n",
       "      <td>NaN</td>\n",
       "      <td>NaN</td>\n",
       "      <td>NaN</td>\n",
       "      <td>NaN</td>\n",
       "      <td>NaN</td>\n",
       "      <td>1</td>\n",
       "      <td>16862.0</td>\n",
       "      <td>59292.0</td>\n",
       "      <td>42430.0</td>\n",
       "    </tr>\n",
       "  </tbody>\n",
       "</table>\n",
       "</div>"
      ],
      "text/plain": [
       "     condition  id  baseline_motorcycle1  update_motorcycle1  \\\n",
       "0     Sign Top   1                   896               39198   \n",
       "1  Sign Bottom   2                 21396               63511   \n",
       "2  Sign Bottom   3                 21340               37460   \n",
       "3  Sign Bottom   4                 23912               59136   \n",
       "4  Sign Bottom   5                 16862               59292   \n",
       "\n",
       "   baseline_motorcycle2  update_motorcycle2  baseline_motorcycle3  \\\n",
       "0                   NaN                 NaN                   NaN   \n",
       "1               32659.0             47605.0                   NaN   \n",
       "2               44998.0             59002.0                   NaN   \n",
       "3                   NaN                 NaN                   NaN   \n",
       "4                   NaN                 NaN                   NaN   \n",
       "\n",
       "   update_motorcycle3  baseline_motorcycle4  update_motorcycle4  \\\n",
       "0                 NaN                   NaN                 NaN   \n",
       "1                 NaN                   NaN                 NaN   \n",
       "2                 NaN                   NaN                 NaN   \n",
       "3                 NaN                   NaN                 NaN   \n",
       "4                 NaN                   NaN                 NaN   \n",
       "\n",
       "   motorcycle_count  baseline_average  update_average  diff_average  \n",
       "0                 1             896.0         39198.0       38302.0  \n",
       "1                 2           27027.5         55558.0       28530.5  \n",
       "2                 2           33169.0         48231.0       15062.0  \n",
       "3                 1           23912.0         59136.0       35224.0  \n",
       "4                 1           16862.0         59292.0       42430.0  "
      ]
     },
     "execution_count": 28,
     "metadata": {},
     "output_type": "execute_result"
    }
   ],
   "source": [
    "#1.\n",
    "data['baseline_average'] = data[['baseline_motorcycle1', 'baseline_motorcycle2', 'baseline_motorcycle3', 'baseline_motorcycle4']].mean(axis=1)\n",
    "data['update_average'] = data[['update_motorcycle1', 'update_motorcycle2', 'update_motorcycle3', 'update_motorcycle4']].mean(axis=1)\n",
    "data['diff_average'] = data['update_average'] - data['baseline_average']\n",
    "data.head()"
   ]
  },
  {
   "cell_type": "markdown",
   "metadata": {},
   "source": [
    "### 3.2\n",
    "\n",
    "Another way of aggregating distinct motorcycles from a single policy could be to use the median instead of the mean. It could be better for the comparison because the mean is shifted by extreme values, whereas the median truely highlights the middle value."
   ]
  },
  {
   "cell_type": "markdown",
   "metadata": {},
   "source": [
    "### 3.3\n",
    "Create a bar chart of the motorcycle count variable to show the distribution."
   ]
  },
  {
   "cell_type": "code",
   "execution_count": 29,
   "metadata": {
    "scrolled": true
   },
   "outputs": [
    {
     "data": {
      "image/png": "[encoded data removed]",
      "text/plain": [
       "<Figure size 432x288 with 1 Axes>"
      ]
     },
     "metadata": {
      "needs_background": "light"
     },
     "output_type": "display_data"
    }
   ],
   "source": [
    "barplot = data['motorcycle_count'].value_counts().tolist()\n",
    "x_positions = [1,2,3,4]\n",
    "bar_width = 0.9\n",
    " \n",
    "plt.bar(x_positions, barplot, width = bar_width)\n",
    "plt.xticks([r + bar_width for r in range(len(x_positions))], ['1', '2', '3', '4'])\n",
    "\n",
    "label = data['motorcycle_count'].value_counts().tolist()\n",
    " \n",
    "for i in range(len(x_positions)):\n",
    "    plt.text(x = x_positions[i]-0.2 , y = barplot[i]+0.5, s = label[i], size = 10)\n",
    "    plt.text(x = x_positions[i]-0.2 , y = barplot[i]+0.5, s = label[i], size = 10)\n",
    "\n",
    "plt.subplots_adjust(bottom= 0.2, top = 1)\n",
    "plt.xlabel('Number of motorcycles in the policy')\n",
    "plt.ylabel('Number of policies')\n",
    "plt.title('Distribution of Motorcycles Per Policy')\n",
    " \n",
    "plt.show()"
   ]
  },
  {
   "cell_type": "markdown",
   "metadata": {},
   "source": [
    "### 3.4\n",
    "\n",
    "Take the mean and standard deviation of the update_average column created in 3.1."
   ]
  },
  {
   "cell_type": "code",
   "execution_count": 30,
   "metadata": {},
   "outputs": [
    {
     "name": "stdout",
     "output_type": "stream",
     "text": [
      "Mean of Updated Average Kilometrages: 87751.72\n",
      "Standard Deviation of Updated Average Kilometrages: 43932.88\n"
     ]
    }
   ],
   "source": [
    "print(\"Mean of Updated Average Kilometrages: {:.2f}\".format(data['update_average'].mean()))\n",
    "print(\"Standard Deviation of Updated Average Kilometrages: {:.2f}\".format(data['update_average'].std()))"
   ]
  },
  {
   "cell_type": "markdown",
   "metadata": {},
   "source": [
    "### 3.5\n",
    "Using loc, filter the rows where the motorcycle count is 4 and then take the mean and standard deviation of all motorcycle update values for those rows."
   ]
  },
  {
   "cell_type": "code",
   "execution_count": 31,
   "metadata": {},
   "outputs": [
    {
     "name": "stdout",
     "output_type": "stream",
     "text": [
      "Means of Updated Average Kilometrages for 4 Motorcycle Policies: 66462.15789473684 105401.15789473684 97720.31578947368 122373.13157894737\n",
      "Standard Deviations of Updated Average Kilometrages for 4 Motorcycle Policies: 44530.21894722626 57430.760154941316 64780.79922493937 42435.93380498581\n"
     ]
    }
   ],
   "source": [
    "#5. \n",
    "four_moto = data.loc[data['motorcycle_count'] == 4]\n",
    "\n",
    "u1 = four_moto['update_motorcycle1']\n",
    "u2 = four_moto['update_motorcycle2']\n",
    "u3 = four_moto['update_motorcycle3']\n",
    "u4 = four_moto['update_motorcycle4']\n",
    "\n",
    "u1_mean=u1.mean()\n",
    "u2_mean=u2.mean()\n",
    "u3_mean=u3.mean()\n",
    "u4_mean=u4.mean()\n",
    "u1_std=u1.std()\n",
    "u2_std=u2.std()\n",
    "u3_std=u3.std()\n",
    "u4_std=u4.std()\n",
    "\n",
    "\n",
    "print(\"Means of Updated Average Kilometrages for 4 Motorcycle Policies:\", u1_mean, u2_mean, u3_mean, u4_mean)\n",
    "print(\"Standard Deviations of Updated Average Kilometrages for 4 Motorcycle Policies:\", u1_std, u2_std, u3_std, u4_std )\n"
   ]
  },
  {
   "cell_type": "markdown",
   "metadata": {},
   "source": [
    "### 3.6 \n",
    "The conclusions can be different between the two methods, because in one case we compare each policy so we don't discriminate the recorded kilometrage per motorcycle, while in the other method we consider the means in each different motorcycle. So if the individual cheated on the kilometrage for on motorcycle but not another, it is not highlighted in the first method, whereas in the second method if someone changed the kilometrage value once it will be highlighted. "
   ]
  },
  {
   "cell_type": "markdown",
   "metadata": {},
   "source": [
    "### Task 4 — 18pts\n",
    "\n",
    "Now that we have compressed the kilometrage reported in each contract into a single number, it is time to analyze the \n",
    "million-dollar question: *does signing at the top decrease dishonesty?*\n",
    "\n",
    "1. Considering the updated contracts, calculate the mean and the standard deviation of the average kilometrage in a) \n",
    "policies where the signing was done at the bottom; and b) policies where the signing was done at the top. Additionally,\n",
    "plot the two kilometrage distributions.\n",
    "2. Determine whether the difference between the two scenarios mentioned in 1. is statistically significant.\n",
    "3. **Discuss:** Recall that the assignment of the different contracts (*sign at the top* vs. *sign at the bottom*) was \n",
    "done at random. According to the results in 1. and 2., does signing at the top decrease dishonesty? \n",
    "4.  **Discuss:** Given that no intervention was performed in the baseline contract (i.e., everyone signed at the \n",
    "bottom). Would you expect any differences between the average values between *sign at the top* vs. *sign at the bottom*\n",
    " conditions for the baseline contract? Note that this is related to columns `baseline_motorcycle[1-4]`.\n",
    "5. Calculate the mean and the standard deviation for the baseline contracts of the two groups (sign at the top vs. sign \n",
    "at the bottom). Additionally, plot the two kilometrage distributions.\n",
    "6. Determine whether the difference between the two scenarios mentioned in 5. is statistically significant.\n",
    "\n",
    "---\n",
    "\n",
    "**Hint:** Recall that the column `condition` encodes the experimental condition in which the customer fell when \n",
    "reporting the values shown in columns `update_motorcycle[1-4]`!\n",
    "\n",
    "**Hint:** To determine if the means of two sets of data are significantly different from each other, you may want to use\n",
    " the `ttest_ind` function implemented in the \n",
    " [scipy library](https://docs.scipy.org/doc/scipy/reference/generated/scipy.stats.ttest_ind.html). To learn more about \n",
    " Student's t-test, check out this [Wikipedia page](https://en.wikipedia.org/wiki/Student%27s_t-test)."
   ]
  },
  {
   "cell_type": "markdown",
   "metadata": {},
   "source": [
    "### 4.1"
   ]
  },
  {
   "cell_type": "markdown",
   "metadata": {},
   "source": [
    "Considering the updated contracts, calculate the mean and the standard deviation of the average kilometrage in a) policies where the signing was done at the bottom; \n",
    "and b) policies where the signing was done at the top. Additionally, plot the two kilometrage distributions."
   ]
  },
  {
   "cell_type": "code",
   "execution_count": 93,
   "metadata": {},
   "outputs": [
    {
     "data": {
      "text/html": [
       "<div>\n",
       "<style scoped>\n",
       "    .dataframe tbody tr th:only-of-type {\n",
       "        vertical-align: middle;\n",
       "    }\n",
       "\n",
       "    .dataframe tbody tr th {\n",
       "        vertical-align: top;\n",
       "    }\n",
       "\n",
       "    .dataframe thead th {\n",
       "        text-align: right;\n",
       "    }\n",
       "</style>\n",
       "<table border=\"1\" class=\"dataframe\">\n",
       "  <thead>\n",
       "    <tr style=\"text-align: right;\">\n",
       "      <th></th>\n",
       "      <th>update_motorcycle1</th>\n",
       "      <th>update_motorcycle2</th>\n",
       "      <th>update_motorcycle3</th>\n",
       "      <th>update_motorcycle4</th>\n",
       "    </tr>\n",
       "  </thead>\n",
       "  <tbody>\n",
       "    <tr>\n",
       "      <th>mean</th>\n",
       "      <td>93321.013100</td>\n",
       "      <td>93807.015192</td>\n",
       "      <td>95258.78057</td>\n",
       "      <td>97973.770186</td>\n",
       "    </tr>\n",
       "    <tr>\n",
       "      <th>std</th>\n",
       "      <td>48901.075556</td>\n",
       "      <td>48277.389770</td>\n",
       "      <td>54747.12258</td>\n",
       "      <td>57298.946616</td>\n",
       "    </tr>\n",
       "  </tbody>\n",
       "</table>\n",
       "</div>"
      ],
      "text/plain": [
       "      update_motorcycle1  update_motorcycle2  update_motorcycle3  \\\n",
       "mean        93321.013100        93807.015192         95258.78057   \n",
       "std         48901.075556        48277.389770         54747.12258   \n",
       "\n",
       "      update_motorcycle4  \n",
       "mean        97973.770186  \n",
       "std         57298.946616  "
      ]
     },
     "execution_count": 93,
     "metadata": {},
     "output_type": "execute_result"
    }
   ],
   "source": [
    "#1a)calculation in policies where the signing was done at the bottom in updated contracts:\n",
    "data[data.condition=='Sign Bottom'][['update_motorcycle1', \n",
    "     'update_motorcycle2', 'update_motorcycle3', 'update_motorcycle4']].agg(['mean','std'])"
   ]
  },
  {
   "cell_type": "code",
   "execution_count": 94,
   "metadata": {},
   "outputs": [
    {
     "data": {
      "text/html": [
       "<div>\n",
       "<style scoped>\n",
       "    .dataframe tbody tr th:only-of-type {\n",
       "        vertical-align: middle;\n",
       "    }\n",
       "\n",
       "    .dataframe tbody tr th {\n",
       "        vertical-align: top;\n",
       "    }\n",
       "\n",
       "    .dataframe thead th {\n",
       "        text-align: right;\n",
       "    }\n",
       "</style>\n",
       "<table border=\"1\" class=\"dataframe\">\n",
       "  <thead>\n",
       "    <tr style=\"text-align: right;\">\n",
       "      <th></th>\n",
       "      <th>update_motorcycle1</th>\n",
       "      <th>update_motorcycle2</th>\n",
       "      <th>update_motorcycle3</th>\n",
       "      <th>update_motorcycle4</th>\n",
       "    </tr>\n",
       "  </thead>\n",
       "  <tbody>\n",
       "    <tr>\n",
       "      <th>mean</th>\n",
       "      <td>82059.861036</td>\n",
       "      <td>80929.336248</td>\n",
       "      <td>83480.735537</td>\n",
       "      <td>84114.608974</td>\n",
       "    </tr>\n",
       "    <tr>\n",
       "      <th>std</th>\n",
       "      <td>49123.771477</td>\n",
       "      <td>49520.298036</td>\n",
       "      <td>55584.562243</td>\n",
       "      <td>52331.036444</td>\n",
       "    </tr>\n",
       "  </tbody>\n",
       "</table>\n",
       "</div>"
      ],
      "text/plain": [
       "      update_motorcycle1  update_motorcycle2  update_motorcycle3  \\\n",
       "mean        82059.861036        80929.336248        83480.735537   \n",
       "std         49123.771477        49520.298036        55584.562243   \n",
       "\n",
       "      update_motorcycle4  \n",
       "mean        84114.608974  \n",
       "std         52331.036444  "
      ]
     },
     "execution_count": 94,
     "metadata": {},
     "output_type": "execute_result"
    }
   ],
   "source": [
    "#1b)calculation in policies where the signing was done at the top in updated contracts\n",
    "data[data.condition=='Sign Top'][['update_motorcycle1', \n",
    "     'update_motorcycle2', 'update_motorcycle3', 'update_motorcycle4']].agg(['mean','std'])"
   ]
  },
  {
   "cell_type": "code",
   "execution_count": 95,
   "metadata": {
    "scrolled": true
   },
   "outputs": [
    {
     "data": {
      "image/png": "[encoded data removed]",
      "text/plain": [
       "<Figure size 432x288 with 1 Axes>"
      ]
     },
     "metadata": {
      "needs_background": "light"
     },
     "output_type": "display_data"
    }
   ],
   "source": [
    "#Plot the two kilometrage distributions:\n",
    "bottom=data[data.condition=='Sign Bottom'][['update_motorcycle1', \n",
    "     'update_motorcycle2', 'update_motorcycle3', 'update_motorcycle4']].mean(axis=1)\n",
    "\n",
    "top=data[data.condition=='Sign Top'][['update_motorcycle1', \n",
    "     'update_motorcycle2', 'update_motorcycle3', 'update_motorcycle4']].mean(axis=1)\n",
    "\n",
    "plt.hist(bottom, alpha=0.6, label='Bottom')\n",
    "plt.hist(top, alpha = 0.5, label='Top')\n",
    "plt.legend(loc='upper right')\n",
    "plt.xlabel('Kilometrage')\n",
    "plt.ylabel('Number of Motorcycles')\n",
    "plt.title('Distribution of Odometer Kilometrage in function of signing top or bottom for update contract ')\n",
    "plt.show()"
   ]
  },
  {
   "cell_type": "markdown",
   "metadata": {},
   "source": [
    "### 4.2"
   ]
  },
  {
   "cell_type": "code",
   "execution_count": 96,
   "metadata": {},
   "outputs": [
    {
     "data": {
      "text/plain": [
       "Ttest_indResult(statistic=15.456057062395457, pvalue=2.0405349629928552e-53)"
      ]
     },
     "execution_count": 96,
     "metadata": {},
     "output_type": "execute_result"
    }
   ],
   "source": [
    "#2\n",
    "stats.ttest_ind(bottom.dropna(), top.dropna())"
   ]
  },
  {
   "cell_type": "markdown",
   "metadata": {},
   "source": [
    "As the p-value is less than 0.05, we reject the null hypothesis that the two distributions are not significantly different. In other terms, there is a significant difference."
   ]
  },
  {
   "cell_type": "markdown",
   "metadata": {},
   "source": [
    "### 4.3\n",
    "As we have seen with the t-test, there is a significant difference between the two distributions and we can see on the graph that the people who signed on the top have declared less kilometers in average than when signing at the bottom. This is surprising as we would expect the opposite as signing top should enhance honesty.\n",
    "\n",
    "### 4.4\n",
    "We should not expect a significant difference between the two groups as the condition 'sign top' or 'sign bottom' were not applied yet and the groups were done randomly. Therefore the distribution of the two groups should be similar.\n",
    "\n",
    "### 4.5\n"
   ]
  },
  {
   "cell_type": "code",
   "execution_count": 97,
   "metadata": {},
   "outputs": [
    {
     "data": {
      "text/html": [
       "<div>\n",
       "<style scoped>\n",
       "    .dataframe tbody tr th:only-of-type {\n",
       "        vertical-align: middle;\n",
       "    }\n",
       "\n",
       "    .dataframe tbody tr th {\n",
       "        vertical-align: top;\n",
       "    }\n",
       "\n",
       "    .dataframe thead th {\n",
       "        text-align: right;\n",
       "    }\n",
       "</style>\n",
       "<table border=\"1\" class=\"dataframe\">\n",
       "  <thead>\n",
       "    <tr style=\"text-align: right;\">\n",
       "      <th></th>\n",
       "      <th>baseline_motorcycle1</th>\n",
       "      <th>baseline_motorcycle2</th>\n",
       "      <th>baseline_motorcycle3</th>\n",
       "      <th>baseline_motorcycle4</th>\n",
       "    </tr>\n",
       "  </thead>\n",
       "  <tbody>\n",
       "    <tr>\n",
       "      <th>mean</th>\n",
       "      <td>69764.877261</td>\n",
       "      <td>69681.784656</td>\n",
       "      <td>70360.539363</td>\n",
       "      <td>74353.869565</td>\n",
       "    </tr>\n",
       "    <tr>\n",
       "      <th>std</th>\n",
       "      <td>46842.048613</td>\n",
       "      <td>46142.680504</td>\n",
       "      <td>52223.077344</td>\n",
       "      <td>54905.283862</td>\n",
       "    </tr>\n",
       "  </tbody>\n",
       "</table>\n",
       "</div>"
      ],
      "text/plain": [
       "      baseline_motorcycle1  baseline_motorcycle2  baseline_motorcycle3  \\\n",
       "mean          69764.877261          69681.784656          70360.539363   \n",
       "std           46842.048613          46142.680504          52223.077344   \n",
       "\n",
       "      baseline_motorcycle4  \n",
       "mean          74353.869565  \n",
       "std           54905.283862  "
      ]
     },
     "execution_count": 97,
     "metadata": {},
     "output_type": "execute_result"
    }
   ],
   "source": [
    "#5a) calculation in policies where the signing was done at the bottom in baseline contracts:\n",
    "data[data.condition=='Sign Bottom'][['baseline_motorcycle1', \n",
    "     'baseline_motorcycle2', 'baseline_motorcycle3', 'baseline_motorcycle4']].agg(['mean','std'])"
   ]
  },
  {
   "cell_type": "code",
   "execution_count": 98,
   "metadata": {},
   "outputs": [
    {
     "data": {
      "text/html": [
       "<div>\n",
       "<style scoped>\n",
       "    .dataframe tbody tr th:only-of-type {\n",
       "        vertical-align: middle;\n",
       "    }\n",
       "\n",
       "    .dataframe tbody tr th {\n",
       "        vertical-align: top;\n",
       "    }\n",
       "\n",
       "    .dataframe thead th {\n",
       "        text-align: right;\n",
       "    }\n",
       "</style>\n",
       "<table border=\"1\" class=\"dataframe\">\n",
       "  <thead>\n",
       "    <tr style=\"text-align: right;\">\n",
       "      <th></th>\n",
       "      <th>baseline_motorcycle1</th>\n",
       "      <th>baseline_motorcycle2</th>\n",
       "      <th>baseline_motorcycle3</th>\n",
       "      <th>baseline_motorcycle4</th>\n",
       "    </tr>\n",
       "  </thead>\n",
       "  <tbody>\n",
       "    <tr>\n",
       "      <th>mean</th>\n",
       "      <td>55926.183077</td>\n",
       "      <td>55305.209836</td>\n",
       "      <td>58250.130579</td>\n",
       "      <td>56379.666667</td>\n",
       "    </tr>\n",
       "    <tr>\n",
       "      <th>std</th>\n",
       "      <td>46823.862717</td>\n",
       "      <td>47333.642653</td>\n",
       "      <td>53227.920160</td>\n",
       "      <td>50350.157280</td>\n",
       "    </tr>\n",
       "  </tbody>\n",
       "</table>\n",
       "</div>"
      ],
      "text/plain": [
       "      baseline_motorcycle1  baseline_motorcycle2  baseline_motorcycle3  \\\n",
       "mean          55926.183077          55305.209836          58250.130579   \n",
       "std           46823.862717          47333.642653          53227.920160   \n",
       "\n",
       "      baseline_motorcycle4  \n",
       "mean          56379.666667  \n",
       "std           50350.157280  "
      ]
     },
     "execution_count": 98,
     "metadata": {},
     "output_type": "execute_result"
    }
   ],
   "source": [
    "#5b) calculation in policies where the signing was done at the top in baseline contracts:\n",
    "data[data.condition=='Sign Top'][['baseline_motorcycle1', \n",
    "     'baseline_motorcycle2', 'baseline_motorcycle3', 'baseline_motorcycle4']].agg(['mean','std'])"
   ]
  },
  {
   "cell_type": "code",
   "execution_count": 99,
   "metadata": {
    "scrolled": true
   },
   "outputs": [
    {
     "data": {
      "image/png": "[encoded data removed]",
      "text/plain": [
       "<Figure size 432x288 with 1 Axes>"
      ]
     },
     "metadata": {
      "needs_background": "light"
     },
     "output_type": "display_data"
    }
   ],
   "source": [
    "#Plot the two kilometrage distributions:\n",
    "\n",
    "bottom_=data[data.condition=='Sign Bottom'][['baseline_motorcycle1', \n",
    "     'baseline_motorcycle2', 'baseline_motorcycle3', 'baseline_motorcycle4']].mean(axis=1)\n",
    "\n",
    "top_=data[data.condition=='Sign Top'][['baseline_motorcycle1', \n",
    "     'baseline_motorcycle2', 'baseline_motorcycle3', 'baseline_motorcycle4']].mean(axis=1)\n",
    "\n",
    "plt.hist(bottom_, alpha=0.6, label='Bottom')\n",
    "plt.hist(top_, alpha = 0.5, label='Top')\n",
    "plt.legend(loc='upper right')\n",
    "plt.xlabel('Kilometrage')\n",
    "plt.ylabel('Number of Motorcycles')\n",
    "plt.title('Distribution of Odometer Kilometrage in function of signing top or bottom for baseline contract ')\n",
    "plt.show()"
   ]
  },
  {
   "cell_type": "markdown",
   "metadata": {},
   "source": [
    "### 4.6"
   ]
  },
  {
   "cell_type": "code",
   "execution_count": 100,
   "metadata": {},
   "outputs": [
    {
     "data": {
      "text/plain": [
       "Ttest_indResult(statistic=19.43256795784435, pvalue=6.0551385729255415e-83)"
      ]
     },
     "execution_count": 100,
     "metadata": {},
     "output_type": "execute_result"
    }
   ],
   "source": [
    "#6\n",
    "stats.ttest_ind(bottom_.dropna(), top_.dropna())"
   ]
  },
  {
   "cell_type": "markdown",
   "metadata": {},
   "source": [
    "As we can see, the p value is much smaller than 0.05, therefore we reject the null hypothesis which means that the two distributions are significantly different. This result is surprising as there is no logical reason for a difference for the baseline contract which was made before any assignment to a group."
   ]
  },
  {
   "cell_type": "markdown",
   "metadata": {},
   "source": [
    "## Interlude: Something is dodgy about this data...\n",
    "\n",
    "---\n",
    "\n",
    "Noticing the oddities in the data, you send an email to your contact at the insurance company asking about the integrity\n",
    " of the data. Their reply seems like something out of a detective movie:\n",
    "\n",
    "> Dear researcher, I believe that this data is not to be trusted. I can't talk right now but will send further hints \n",
    ">throughout the week.\n",
    "\n",
    "As a researcher, you know that [data integrity](https://en.wikipedia.org/wiki/Data_integrity) is a big deal, and decide\n",
    " to investigate."
   ]
  },
  {
   "cell_type": "markdown",
   "metadata": {},
   "source": [
    "### Task 5 — 9pts\n",
    "\n",
    "The first hint you receive is: *there is something off about the kilometrage values in the data.*\n",
    "\n",
    "1. For the baseline contract and for the updated contract, plot the distribution of odometer kilometrage reported for \n",
    "the first motorcycle insured in each policy. \n",
    "2. For the first motorcycle insured by the company in each policy, plot the difference between the number of kilometers\n",
    " reported in the baseline and in the updated contract.\n",
    "3. **Discuss:** why is this data unlikely to have originated from real odometer readings?\n",
    "\n",
    "---"
   ]
  },
  {
   "cell_type": "markdown",
   "metadata": {},
   "source": [
    "### 5.1"
   ]
  },
  {
   "cell_type": "code",
   "execution_count": 101,
   "metadata": {},
   "outputs": [
    {
     "data": {
      "image/png": "[encoded data removed]",
      "text/plain": [
       "<Figure size 432x288 with 1 Axes>"
      ]
     },
     "metadata": {
      "needs_background": "light"
     },
     "output_type": "display_data"
    }
   ],
   "source": [
    "#1. \n",
    "max_x=data[[\"baseline_motorcycle1\", \"update_motorcycle1\"]].max(axis=1).max(axis=0)\n",
    "bins = np.linspace(-0.1, max_x, 50)\n",
    "\n",
    "plt.hist(data['baseline_motorcycle1'], bins, alpha=0.5, label='Baseline Motorcycle 1')\n",
    "plt.hist(data['update_motorcycle1'], bins, alpha = 0.4, label='Update Motorcycle 1')\n",
    "plt.legend(loc='upper right')\n",
    "plt.xlabel('Kilometrage')\n",
    "plt.ylabel('Number of Motorcycles')\n",
    "plt.title('Distribution of Odometer Kilometrage for the First Motorcycle')\n",
    "plt.show()"
   ]
  },
  {
   "cell_type": "markdown",
   "metadata": {},
   "source": [
    "### 5.2"
   ]
  },
  {
   "cell_type": "code",
   "execution_count": 102,
   "metadata": {},
   "outputs": [
    {
     "data": {
      "image/png": "[encoded data removed]",
      "text/plain": [
       "<Figure size 432x288 with 1 Axes>"
      ]
     },
     "metadata": {
      "needs_background": "light"
     },
     "output_type": "display_data"
    }
   ],
   "source": [
    "#2\n",
    "data['diff']=(data['baseline_motorcycle1']-data['update_motorcycle1']).abs()\n",
    "bins = np.linspace(data['diff'].min()-100, data['diff'].max()+100, 100)\n",
    "plt.hist(data['diff'], bins, alpha=0.5)\n",
    "plt.ylim([90,170])\n",
    "plt.xlabel('Kilometrage difference')\n",
    "plt.ylabel('Number of Motorcycles')\n",
    "plt.title('Difference between the number of kilometers reported in the baseline and in the updated contract')\n",
    "plt.show()"
   ]
  },
  {
   "cell_type": "markdown",
   "metadata": {},
   "source": [
    "### 5.3"
   ]
  },
  {
   "cell_type": "markdown",
   "metadata": {},
   "source": [
    "These data are unlikely to have originated from real odometer readings because, by looking at the plot of the differences in kilometrage, \n",
    "for a range of wide values (from 0 to 50000 km approximatively) we have an almost constant number of motorcycles. \n",
    "For example, it is surprising that we have approximatively the same number of motorcycles with a difference of 0 km between the baseline\n",
    "and the update contract than for a difference of 50 000 km."
   ]
  },
  {
   "cell_type": "markdown",
   "metadata": {},
   "source": [
    "### Task 6 — 15pts\n",
    "\n",
    "The second hint you receive is: *there is something off with the last digits of the reported kilometrages.*\n",
    "\n",
    "1. Considering the baseline kilometrage of the first motorcycle in each contract (`baseline_motorcycle1`), plot the \n",
    "distribution of occurrences of the last three digits. Repeat the same for the updated kilometrage of the first \n",
    "motorcycle in each contract (`update_motorcycle1`).\n",
    "\n",
    "3. **Discuss:** What are the differences between the two distributions?\n",
    "\n",
    "4. **Discuss:** Hypothesize a **plausible** cause for the patterns observed in the digit distribution of the baseline\n",
    " kilometrage of the first motorcycle.\n",
    "    \n",
    "---\n",
    "\n",
    "**Hint:** The last two digits of the number 12314 are 314. Note that you should consider the three last digits together,\n",
    " not separately!"
   ]
  },
  {
   "cell_type": "markdown",
   "metadata": {},
   "source": [
    "### 6.1"
   ]
  },
  {
   "cell_type": "code",
   "execution_count": 103,
   "metadata": {
    "scrolled": true
   },
   "outputs": [
    {
     "data": {
      "image/png": "[encoded data removed]",
      "text/plain": [
       "<Figure size 432x288 with 1 Axes>"
      ]
     },
     "metadata": {
      "needs_background": "light"
     },
     "output_type": "display_data"
    }
   ],
   "source": [
    "data['LastDigit_baseline']=data['baseline_motorcycle1'].mod(10**3)\n",
    "data['LastDigit_update']=data['update_motorcycle1'].mod(10**3)\n",
    "\n",
    "bins=np.linspace(data['LastDigit_baseline'].min()-10, data['LastDigit_baseline'].max()+10, 50)\n",
    "plt.hist(data['LastDigit_baseline'], bins, alpha=0.5, label='for baseline motorcycle1')\n",
    "plt.hist(data['LastDigit_update'], bins, alpha=0.4, label='for update motorcycle1')\n",
    "plt.legend(loc='upper right')\n",
    "plt.xlabel('Last three digits')\n",
    "plt.ylabel('Occurence')\n",
    "plt.title('Distribution of occurrences of the last three digits')\n",
    "plt.show()"
   ]
  },
  {
   "cell_type": "markdown",
   "metadata": {},
   "source": [
    "Here we can visualize the last digits of the baseline contracts and see that most of the values fall in bins exactly on the multiples of 100. The zero bin has so many occurrences because it includes all values that are multiples of one thousand as well."
   ]
  },
  {
   "cell_type": "code",
   "execution_count": 33,
   "metadata": {},
   "outputs": [
    {
     "data": {
      "image/png": "[encoded data removed]",
      "text/plain": [
       "<Figure size 432x288 with 1 Axes>"
      ]
     },
     "metadata": {
      "needs_background": "light"
     },
     "output_type": "display_data"
    }
   ],
   "source": [
    "data['LastDigit_baseline']=data['baseline_motorcycle1'].mod(10**3)\n",
    "data['LastDigit_update']=data['update_motorcycle1'].mod(10**3)\n",
    "\n",
    "plt.hist(data['LastDigit_baseline'], np.linspace(0, data['LastDigit_baseline'].max()+10, 80), alpha=0.5)\n",
    "plt.ylim([150,300])\n",
    "plt.xlabel('Last three digits in baseline_motorcycle1 kilometers')\n",
    "plt.ylabel('Occurrence')\n",
    "plt.title('Distribution of occurrences of the last three digits in baseline motorcycle 1')\n",
    "plt.show()"
   ]
  },
  {
   "cell_type": "markdown",
   "metadata": {},
   "source": [
    "The value counts of the last baseline digits confirm what we see in the above plot."
   ]
  },
  {
   "cell_type": "code",
   "execution_count": 34,
   "metadata": {},
   "outputs": [
    {
     "data": {
      "text/plain": [
       "0      1349\n",
       "500     138\n",
       "200      72\n",
       "600      64\n",
       "800      54\n",
       "       ... \n",
       "368       4\n",
       "498       3\n",
       "476       3\n",
       "947       3\n",
       "329       2\n",
       "Name: LastDigit_baseline, Length: 1000, dtype: int64"
      ]
     },
     "execution_count": 34,
     "metadata": {},
     "output_type": "execute_result"
    }
   ],
   "source": [
    "data['LastDigit_baseline'].value_counts()"
   ]
  },
  {
   "cell_type": "markdown",
   "metadata": {},
   "source": [
    "Here we visualize the last three digits of the update values."
   ]
  },
  {
   "cell_type": "code",
   "execution_count": 36,
   "metadata": {},
   "outputs": [
    {
     "data": {
      "image/png": "[encoded data removed]",
      "text/plain": [
       "<Figure size 432x288 with 1 Axes>"
      ]
     },
     "metadata": {
      "needs_background": "light"
     },
     "output_type": "display_data"
    }
   ],
   "source": [
    "plt.hist(data['LastDigit_update'], \n",
    "         np.linspace(data['LastDigit_update'].min()-10, data['LastDigit_update'].max()+10, 70), alpha=0.5)\n",
    "plt.ylim([150,250])\n",
    "plt.xlabel('Last three digits in update_motorcycle1 kilometers')\n",
    "plt.ylabel('Occurrence')\n",
    "plt.title('Distribution of occurrences of the last three digits in update motorcycle 1')\n",
    "plt.show()"
   ]
  },
  {
   "cell_type": "markdown",
   "metadata": {},
   "source": [
    "The following digits appear to be much more random."
   ]
  },
  {
   "cell_type": "code",
   "execution_count": 37,
   "metadata": {},
   "outputs": [
    {
     "data": {
      "text/plain": [
       "60     25\n",
       "738    25\n",
       "902    23\n",
       "980    23\n",
       "22     23\n",
       "       ..\n",
       "818     4\n",
       "523     4\n",
       "984     4\n",
       "207     3\n",
       "59      3\n",
       "Name: LastDigit_update, Length: 1000, dtype: int64"
      ]
     },
     "execution_count": 37,
     "metadata": {},
     "output_type": "execute_result"
    }
   ],
   "source": [
    "data['LastDigit_update'].value_counts()"
   ]
  },
  {
   "cell_type": "markdown",
   "metadata": {},
   "source": [
    "### 6.2\n",
    "The distribution of the baseline values is not evenly distributed at all. Most of the values are rounded to the nearest hundred or thousand, so the last three digits are 000, 500, 200, 300, 800, etc. On the other hand, the distribution of the update values is much more random. There is no visible pattern and the numbers are not rounded."
   ]
  },
  {
   "cell_type": "markdown",
   "metadata": {},
   "source": [
    "### 6.3\n",
    "The pattern seen in the baseline values could be due to the fact that motorcycle owners rounded their kilometrage values when reporting. Since the numbers are in the ten thousands, it makes sense that they would round the values. They might not have had an exact value on hand or they did not feel that it was necessary to give an exact value. However, in the data description it also says that customers had to report exact kilometrage, so it is strange that so many end with 00."
   ]
  },
  {
   "cell_type": "markdown",
   "metadata": {},
   "source": [
    "### Task 7 — 15pts\n",
    "\n",
    "The third (and last) hint you receive is: *there is something wrong with the fonts.*\n",
    "\n",
    "Your anonymous source explains that the `.tsv` file sent to you was derived from an Excel sheet. There, some of the rows\n",
    " were written in the font *Helvetica* while others were written in the font *Arial*. Your anonymous source sends you a \n",
    " file with the relation between policy id and the font used in the respective row (`fonts.csv`), and tells you that the\n",
    "  rows with *Helvetica* font were fabricated.\n",
    "\n",
    "1. Load `fonts.csv` and merge the `font` column into your pandas dataframe.\n",
    "2. Considering only the kilometrage of the first motorcycle in each policy, calculate the number of rows with the Arial \n",
    "and the Helvetica font, respectively. Also, plot the distribution of baseline kilometers for rows with the Arial font \n",
    "and for rows with the Helvetica font.\n",
    "3. Similar to what was done in task 6. Plot the distribution of the last three digits for 1) the first motorcycle in \n",
    "each baseline contract (`baseline_motorcycle1`); and 2) the first motorcycle in each updated contract\n",
    " (`update_motorcycle1`).\n",
    "4. **Discuss:** Why do these analyses provide evidence that the rows with Helvetica font were fabricated?\n",
    "\n",
    "---"
   ]
  },
  {
   "cell_type": "markdown",
   "metadata": {},
   "source": [
    "### 7.1"
   ]
  },
  {
   "cell_type": "code",
   "execution_count": 39,
   "metadata": {},
   "outputs": [
    {
     "data": {
      "text/html": [
       "<div>\n",
       "<style scoped>\n",
       "    .dataframe tbody tr th:only-of-type {\n",
       "        vertical-align: middle;\n",
       "    }\n",
       "\n",
       "    .dataframe tbody tr th {\n",
       "        vertical-align: top;\n",
       "    }\n",
       "\n",
       "    .dataframe thead th {\n",
       "        text-align: right;\n",
       "    }\n",
       "</style>\n",
       "<table border=\"1\" class=\"dataframe\">\n",
       "  <thead>\n",
       "    <tr style=\"text-align: right;\">\n",
       "      <th></th>\n",
       "      <th>id</th>\n",
       "      <th>font</th>\n",
       "      <th>condition</th>\n",
       "      <th>baseline_motorcycle1</th>\n",
       "      <th>update_motorcycle1</th>\n",
       "      <th>baseline_motorcycle2</th>\n",
       "      <th>update_motorcycle2</th>\n",
       "      <th>baseline_motorcycle3</th>\n",
       "      <th>update_motorcycle3</th>\n",
       "      <th>baseline_motorcycle4</th>\n",
       "      <th>update_motorcycle4</th>\n",
       "      <th>motorcycle_count</th>\n",
       "      <th>baseline_average</th>\n",
       "      <th>update_average</th>\n",
       "      <th>diff_average</th>\n",
       "    </tr>\n",
       "  </thead>\n",
       "  <tbody>\n",
       "    <tr>\n",
       "      <th>0</th>\n",
       "      <td>1</td>\n",
       "      <td>Helvetica</td>\n",
       "      <td>Sign Top</td>\n",
       "      <td>896</td>\n",
       "      <td>39198</td>\n",
       "      <td>NaN</td>\n",
       "      <td>NaN</td>\n",
       "      <td>NaN</td>\n",
       "      <td>NaN</td>\n",
       "      <td>NaN</td>\n",
       "      <td>NaN</td>\n",
       "      <td>1</td>\n",
       "      <td>896.0</td>\n",
       "      <td>39198.0</td>\n",
       "      <td>38302.0</td>\n",
       "    </tr>\n",
       "    <tr>\n",
       "      <th>1</th>\n",
       "      <td>2</td>\n",
       "      <td>Helvetica</td>\n",
       "      <td>Sign Bottom</td>\n",
       "      <td>21396</td>\n",
       "      <td>63511</td>\n",
       "      <td>32659.0</td>\n",
       "      <td>47605.0</td>\n",
       "      <td>NaN</td>\n",
       "      <td>NaN</td>\n",
       "      <td>NaN</td>\n",
       "      <td>NaN</td>\n",
       "      <td>2</td>\n",
       "      <td>27027.5</td>\n",
       "      <td>55558.0</td>\n",
       "      <td>28530.5</td>\n",
       "    </tr>\n",
       "    <tr>\n",
       "      <th>2</th>\n",
       "      <td>3</td>\n",
       "      <td>Helvetica</td>\n",
       "      <td>Sign Bottom</td>\n",
       "      <td>21340</td>\n",
       "      <td>37460</td>\n",
       "      <td>44998.0</td>\n",
       "      <td>59002.0</td>\n",
       "      <td>NaN</td>\n",
       "      <td>NaN</td>\n",
       "      <td>NaN</td>\n",
       "      <td>NaN</td>\n",
       "      <td>2</td>\n",
       "      <td>33169.0</td>\n",
       "      <td>48231.0</td>\n",
       "      <td>15062.0</td>\n",
       "    </tr>\n",
       "    <tr>\n",
       "      <th>3</th>\n",
       "      <td>4</td>\n",
       "      <td>Helvetica</td>\n",
       "      <td>Sign Bottom</td>\n",
       "      <td>23912</td>\n",
       "      <td>59136</td>\n",
       "      <td>NaN</td>\n",
       "      <td>NaN</td>\n",
       "      <td>NaN</td>\n",
       "      <td>NaN</td>\n",
       "      <td>NaN</td>\n",
       "      <td>NaN</td>\n",
       "      <td>1</td>\n",
       "      <td>23912.0</td>\n",
       "      <td>59136.0</td>\n",
       "      <td>35224.0</td>\n",
       "    </tr>\n",
       "    <tr>\n",
       "      <th>4</th>\n",
       "      <td>5</td>\n",
       "      <td>Arial</td>\n",
       "      <td>Sign Bottom</td>\n",
       "      <td>16862</td>\n",
       "      <td>59292</td>\n",
       "      <td>NaN</td>\n",
       "      <td>NaN</td>\n",
       "      <td>NaN</td>\n",
       "      <td>NaN</td>\n",
       "      <td>NaN</td>\n",
       "      <td>NaN</td>\n",
       "      <td>1</td>\n",
       "      <td>16862.0</td>\n",
       "      <td>59292.0</td>\n",
       "      <td>42430.0</td>\n",
       "    </tr>\n",
       "  </tbody>\n",
       "</table>\n",
       "</div>"
      ],
      "text/plain": [
       "   id       font    condition  baseline_motorcycle1  update_motorcycle1  \\\n",
       "0   1  Helvetica     Sign Top                   896               39198   \n",
       "1   2  Helvetica  Sign Bottom                 21396               63511   \n",
       "2   3  Helvetica  Sign Bottom                 21340               37460   \n",
       "3   4  Helvetica  Sign Bottom                 23912               59136   \n",
       "4   5      Arial  Sign Bottom                 16862               59292   \n",
       "\n",
       "   baseline_motorcycle2  update_motorcycle2  baseline_motorcycle3  \\\n",
       "0                   NaN                 NaN                   NaN   \n",
       "1               32659.0             47605.0                   NaN   \n",
       "2               44998.0             59002.0                   NaN   \n",
       "3                   NaN                 NaN                   NaN   \n",
       "4                   NaN                 NaN                   NaN   \n",
       "\n",
       "   update_motorcycle3  baseline_motorcycle4  update_motorcycle4  \\\n",
       "0                 NaN                   NaN                 NaN   \n",
       "1                 NaN                   NaN                 NaN   \n",
       "2                 NaN                   NaN                 NaN   \n",
       "3                 NaN                   NaN                 NaN   \n",
       "4                 NaN                   NaN                 NaN   \n",
       "\n",
       "   motorcycle_count  baseline_average  update_average  diff_average  \n",
       "0                 1             896.0         39198.0       38302.0  \n",
       "1                 2           27027.5         55558.0       28530.5  \n",
       "2                 2           33169.0         48231.0       15062.0  \n",
       "3                 1           23912.0         59136.0       35224.0  \n",
       "4                 1           16862.0         59292.0       42430.0  "
      ]
     },
     "execution_count": 39,
     "metadata": {},
     "output_type": "execute_result"
    }
   ],
   "source": [
    "# Load the data:\n",
    "data_folder = 'data/'\n",
    "fonts=pd.read_csv(data_folder+'fonts.csv')\n",
    "data=data.drop(['LastDigit_baseline', 'LastDigit_update'], 1)\n",
    "merge = pd.merge(fonts,data)\n",
    "merge.head()"
   ]
  },
  {
   "cell_type": "code",
   "execution_count": 29,
   "metadata": {},
   "outputs": [
    {
     "data": {
      "text/html": [
       "<div>\n",
       "<style scoped>\n",
       "    .dataframe tbody tr th:only-of-type {\n",
       "        vertical-align: middle;\n",
       "    }\n",
       "\n",
       "    .dataframe tbody tr th {\n",
       "        vertical-align: top;\n",
       "    }\n",
       "\n",
       "    .dataframe thead th {\n",
       "        text-align: right;\n",
       "    }\n",
       "</style>\n",
       "<table border=\"1\" class=\"dataframe\">\n",
       "  <thead>\n",
       "    <tr style=\"text-align: right;\">\n",
       "      <th></th>\n",
       "      <th>id</th>\n",
       "      <th>font</th>\n",
       "    </tr>\n",
       "  </thead>\n",
       "  <tbody>\n",
       "    <tr>\n",
       "      <th>0</th>\n",
       "      <td>1</td>\n",
       "      <td>Helvetica</td>\n",
       "    </tr>\n",
       "    <tr>\n",
       "      <th>1</th>\n",
       "      <td>2</td>\n",
       "      <td>Helvetica</td>\n",
       "    </tr>\n",
       "    <tr>\n",
       "      <th>2</th>\n",
       "      <td>3</td>\n",
       "      <td>Helvetica</td>\n",
       "    </tr>\n",
       "    <tr>\n",
       "      <th>3</th>\n",
       "      <td>4</td>\n",
       "      <td>Helvetica</td>\n",
       "    </tr>\n",
       "    <tr>\n",
       "      <th>4</th>\n",
       "      <td>5</td>\n",
       "      <td>Arial</td>\n",
       "    </tr>\n",
       "  </tbody>\n",
       "</table>\n",
       "</div>"
      ],
      "text/plain": [
       "   id       font\n",
       "0   1  Helvetica\n",
       "1   2  Helvetica\n",
       "2   3  Helvetica\n",
       "3   4  Helvetica\n",
       "4   5      Arial"
      ]
     },
     "execution_count": 29,
     "metadata": {},
     "output_type": "execute_result"
    }
   ],
   "source": [
    "fonts.shape[0]\n",
    "fonts.head()"
   ]
  },
  {
   "cell_type": "markdown",
   "metadata": {},
   "source": [
    "### 7.2"
   ]
  },
  {
   "cell_type": "code",
   "execution_count": 105,
   "metadata": {},
   "outputs": [
    {
     "data": {
      "text/plain": [
       "Arial        6744\n",
       "Helvetica    6743\n",
       "Name: font, dtype: int64"
      ]
     },
     "execution_count": 105,
     "metadata": {},
     "output_type": "execute_result"
    }
   ],
   "source": [
    "merge['font'].value_counts()"
   ]
  },
  {
   "cell_type": "code",
   "execution_count": 41,
   "metadata": {},
   "outputs": [
    {
     "data": {
      "image/png": "[encoded data removed]",
      "text/plain": [
       "<Figure size 432x288 with 1 Axes>"
      ]
     },
     "metadata": {
      "needs_background": "light"
     },
     "output_type": "display_data"
    }
   ],
   "source": [
    "plt.hist(merge[merge.font=='Helvetica']['baseline_motorcycle1'], alpha=0.8, label='Helvetica')\n",
    "plt.hist(merge[merge.font=='Arial']['baseline_motorcycle1'], alpha = 0.4, label='Arial')\n",
    "plt.legend(loc='upper right')\n",
    "plt.xlabel('Kilometrage')\n",
    "plt.ylabel('Number of Motorcycles')\n",
    "plt.title('Distribution of baseline kilometers for rows with the Arial font and for rows with the Helvetica font')\n",
    "plt.show()"
   ]
  },
  {
   "cell_type": "markdown",
   "metadata": {},
   "source": [
    "### 7.3"
   ]
  },
  {
   "cell_type": "code",
   "execution_count": 40,
   "metadata": {
    "scrolled": true
   },
   "outputs": [
    {
     "data": {
      "image/png": "[encoded data removed]",
      "text/plain": [
       "<Figure size 432x288 with 1 Axes>"
      ]
     },
     "metadata": {
      "needs_background": "light"
     },
     "output_type": "display_data"
    },
    {
     "data": {
      "image/png": "[encoded data removed]",
      "text/plain": [
       "<Figure size 432x288 with 1 Axes>"
      ]
     },
     "metadata": {
      "needs_background": "light"
     },
     "output_type": "display_data"
    }
   ],
   "source": [
    "merge['LastDigit_baseline']=merge['baseline_motorcycle1'].mod(10**3)\n",
    "merge['LastDigit_update']=merge['update_motorcycle1'].mod(10**3)\n",
    "\n",
    "plt.hist(merge['LastDigit_baseline'], np.linspace(merge['LastDigit_baseline'].min()-10, merge['LastDigit_baseline'].max()+10, 50), alpha=0.5)\n",
    "plt.xlabel('Last three digits in baseline_motorcycle1 kilometers')\n",
    "plt.ylabel('Occurence')\n",
    "plt.title('Distribution of occurrences of the last three digits in baseline motorcycle 1')\n",
    "plt.show()\n",
    "\n",
    "plt.hist(merge['LastDigit_update'], \n",
    "         np.linspace(merge['LastDigit_update'].min()-10, merge['LastDigit_update'].max()+10, 70), alpha=0.5)\n",
    "plt.ylim([150,250])\n",
    "plt.xlabel('Last three digits in update_motorcycle1 kilometers')\n",
    "plt.ylabel('Occurence')\n",
    "plt.title('Distribution of occurrences of the last three digits in update motorcycle 1')\n",
    "plt.show()\n",
    "\n"
   ]
  },
  {
   "cell_type": "code",
   "execution_count": 42,
   "metadata": {},
   "outputs": [
    {
     "name": "stderr",
     "output_type": "stream",
     "text": [
      "<ipython-input-42-be2aed802f29>:5: SettingWithCopyWarning: \n",
      "A value is trying to be set on a copy of a slice from a DataFrame.\n",
      "Try using .loc[row_indexer,col_indexer] = value instead\n",
      "\n",
      "See the caveats in the documentation: https://pandas.pydata.org/pandas-docs/stable/user_guide/indexing.html#returning-a-view-versus-a-copy\n",
      "  arial['LastDigit_baseline']=arial['baseline_motorcycle1'].mod(10**3)\n",
      "<ipython-input-42-be2aed802f29>:6: SettingWithCopyWarning: \n",
      "A value is trying to be set on a copy of a slice from a DataFrame.\n",
      "Try using .loc[row_indexer,col_indexer] = value instead\n",
      "\n",
      "See the caveats in the documentation: https://pandas.pydata.org/pandas-docs/stable/user_guide/indexing.html#returning-a-view-versus-a-copy\n",
      "  arial['LastDigit_update']=arial['update_motorcycle1'].mod(10**3)\n",
      "<ipython-input-42-be2aed802f29>:9: SettingWithCopyWarning: \n",
      "A value is trying to be set on a copy of a slice from a DataFrame.\n",
      "Try using .loc[row_indexer,col_indexer] = value instead\n",
      "\n",
      "See the caveats in the documentation: https://pandas.pydata.org/pandas-docs/stable/user_guide/indexing.html#returning-a-view-versus-a-copy\n",
      "  helvetica['LastDigit_baseline']=helvetica['baseline_motorcycle1'].mod(10**3)\n",
      "<ipython-input-42-be2aed802f29>:10: SettingWithCopyWarning: \n",
      "A value is trying to be set on a copy of a slice from a DataFrame.\n",
      "Try using .loc[row_indexer,col_indexer] = value instead\n",
      "\n",
      "See the caveats in the documentation: https://pandas.pydata.org/pandas-docs/stable/user_guide/indexing.html#returning-a-view-versus-a-copy\n",
      "  helvetica['LastDigit_update']=helvetica['update_motorcycle1'].mod(10**3)\n"
     ]
    },
    {
     "data": {
      "image/png": "[encoded data removed]",
      "text/plain": [
       "<Figure size 432x288 with 1 Axes>"
      ]
     },
     "metadata": {
      "needs_background": "light"
     },
     "output_type": "display_data"
    },
    {
     "data": {
      "image/png": "[encoded data removed]",
      "text/plain": [
       "<Figure size 432x288 with 1 Axes>"
      ]
     },
     "metadata": {
      "needs_background": "light"
     },
     "output_type": "display_data"
    }
   ],
   "source": [
    "arial = merge.loc[merge.font == 'Arial']\n",
    "helvetica = merge.loc[merge.font == 'Helvetica']\n",
    "                \n",
    "\n",
    "arial['LastDigit_baseline']=arial['baseline_motorcycle1'].mod(10**3)\n",
    "arial['LastDigit_update']=arial['update_motorcycle1'].mod(10**3)\n",
    "\n",
    "\n",
    "helvetica['LastDigit_baseline']=helvetica['baseline_motorcycle1'].mod(10**3)\n",
    "helvetica['LastDigit_update']=helvetica['update_motorcycle1'].mod(10**3)\n",
    "\n",
    "\n",
    "plt.hist(arial['LastDigit_baseline'], np.linspace(0, arial['LastDigit_baseline'].max()+10, 100), alpha=0.5, color = 'red', label = \"Arial\")\n",
    "plt.hist(helvetica['LastDigit_baseline'], np.linspace(helvetica['LastDigit_baseline'].min()-10, helvetica['LastDigit_baseline'].max()+10, 100), alpha=0.4, color = 'blue', label = \"Helvetica\")\n",
    "plt.xlabel('Last three digits in baseline_motorcycle1 kilometers')\n",
    "plt.ylabel('Occurrence')\n",
    "plt.ylim([0,250])\n",
    "plt.title('Distribution of occurrences of the last three digits in baseline motorcycle 1')\n",
    "plt.legend(loc='upper right')\n",
    "plt.show()\n",
    "\n",
    "plt.hist(arial['LastDigit_update'], \n",
    "         np.linspace(arial['LastDigit_update'].min()-10, arial['LastDigit_update'].max()+10, 70), alpha=0.5, color = 'red', label = \"Arial\")\n",
    "plt.hist(helvetica['LastDigit_update'], \n",
    "         np.linspace(helvetica['LastDigit_update'].min()-10, helvetica['LastDigit_update'].max()+10, 70), alpha=0.5, color = 'blue', label = \"Helvetica\")\n",
    "plt.xlabel('Last three digits in update_motorcycle1 kilometers')\n",
    "plt.ylabel('Occurrence')\n",
    "plt.title('Distribution of occurrences of the last three digits in update motorcycle 1')\n",
    "plt.legend(loc='upper right')\n",
    "plt.show()\n"
   ]
  },
  {
   "cell_type": "markdown",
   "metadata": {},
   "source": [
    "### 7.4\n",
    "From the above plots, we can see that the rounded baseline values come from the Arial rows. The Arial distribution clearly has peaks at each multiple of 100, most noticeably at 0. The 0 bin includes all values that end in 000, so a huge proportion of the Arial data are multiples of one thousand. The Helvetica rows do not have peaks at 000, 100, 200, 300, etc. This suggests that the Helvetica rows might not be authentic data. Also, in Task 7.2, we see that the distributions are almost identical which is suspicious. "
   ]
  },
  {
   "cell_type": "markdown",
   "metadata": {},
   "source": [
    "### Task 8 — 15pts\n",
    "\n",
    "You've had enough! You decide to write an email to your PI (principal investigator, also known as \"your boss\") reporting\n",
    " the oddities you have observed in the data. Write a (brief) text (in markdown) of up to 300 words. Your text should:\n",
    "\n",
    "- Use the analyses you did to make a convincing case that the data has been tampered with. \n",
    "- Grounded in your analyses, provide a plausible hypothesis about how the data has been tampered with.\n",
    "- Discuss whether the data leads to the conclusion that signing at the top decreases dishonesty.\n",
    "\n",
    "Structure your text into three bullets, analogous to the ones above.\n",
    "\n",
    "You can reference images present in the notebook by indicating a task (e.g., image plotted in Task 3.3) or a cell \n",
    "number.\n",
    "\n",
    "Note that you do not need to conduct any additional analysis to write this text. If you do, the code should be at the \n",
    "end of this notebook, i.e., after your answer.\n",
    "\n",
    "---\n",
    "\n",
    "**Hint:** The data has been tampered with in more than one way."
   ]
  },
  {
   "cell_type": "markdown",
   "metadata": {},
   "source": [
    "- Our analyses have provided significant evidence that the data has been tampered with. To begin with, we would expect that the average update value for people signing at the the top would be greater than for people signing at the bottom, but it turned out that it was less. In Task 5.2, we see that the difference in odometer readings is relatively constant over values between 0 and 50,000. This shape of distribution is strange because you would most likely expect a bell-shaped distribution, with small amounts of people driving extreme distances and the majority somewhere in the middle. Secondly, looking at the last three digits of the kilometrage values, we see that in the baseline contract, a vast majority of the values are rounded. However, this is not the case with the updated values, which appear to have a random last three digits.  \n",
    "\n",
    "- Based on the analyses that we performed, our hypothesis about the method of data tampering is that somebody took the original dataset of about 6500 rows, copied it, and then made some small changes. The person may have added some small amount to the original data because if you look at the baseline values for each font, the Helvetica font data has no zeros, whereas a significant chunk of the Arial baseline values are zero. This is demonstrated in the code cells below. This suggests that the person took the original data and added some amount to every value, resulting in no contracts beginning with zero. \n",
    "\n",
    "- The data does not provide any evidence that signing at the top decreases dishonesty. In fact, the tests in Task 4 showed the opposite to be true. However, due to the unsure integrity of this data, we cannot draw any definite conclusions about the honesty of motorcycle owners.\n"
   ]
  },
  {
   "cell_type": "markdown",
   "metadata": {},
   "source": [
    "The following two code cells show that the fabricated Helvetica baseline values for motorcycle 1 contain no zeros at all, but the Arial baseline values have over one hundred policies that begin with 0 km."
   ]
  },
  {
   "cell_type": "code",
   "execution_count": 44,
   "metadata": {},
   "outputs": [
    {
     "data": {
      "text/plain": [
       "6187       6\n",
       "12691     15\n",
       "7450      16\n",
       "6737      20\n",
       "11161     23\n",
       "        ... \n",
       "6501     294\n",
       "11414    299\n",
       "3078     304\n",
       "7809     307\n",
       "6220     307\n",
       "Name: baseline_motorcycle1, Length: 100, dtype: uint64"
      ]
     },
     "execution_count": 44,
     "metadata": {},
     "output_type": "execute_result"
    }
   ],
   "source": [
    "merge[merge.font=='Helvetica']['baseline_motorcycle1'].sort_values().head(100)"
   ]
  },
  {
   "cell_type": "code",
   "execution_count": 45,
   "metadata": {},
   "outputs": [
    {
     "data": {
      "text/plain": [
       "496      0\n",
       "6426     0\n",
       "7582     0\n",
       "6010     0\n",
       "2511     0\n",
       "        ..\n",
       "4491     0\n",
       "2735     0\n",
       "10400    1\n",
       "7014     1\n",
       "2756     1\n",
       "Name: baseline_motorcycle1, Length: 120, dtype: uint64"
      ]
     },
     "execution_count": 45,
     "metadata": {},
     "output_type": "execute_result"
    }
   ],
   "source": [
    "merge[merge.font=='Arial']['baseline_motorcycle1'].sort_values().head(120)"
   ]
  }
 ],
 "metadata": {
  "kernelspec": {
   "display_name": "Python 3",
   "language": "python",
   "name": "python3"
  },
  "language_info": {
   "codemirror_mode": {
    "name": "ipython",
    "version": 3
   },
   "file_extension": ".py",
   "mimetype": "text/x-python",
   "name": "python",
   "nbconvert_exporter": "python",
   "pygments_lexer": "ipython3",
   "version": "3.8.5"
  },
  "pycharm": {
   "stem_cell": {
    "cell_type": "raw",
    "metadata": {
     "collapsed": false
    },
    "source": []
   }
  }
 },
 "nbformat": 4,
 "nbformat_minor": 4
}
